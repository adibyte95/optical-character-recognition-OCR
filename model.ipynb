{
 "cells": [
  {
   "cell_type": "code",
   "execution_count": 70,
   "metadata": {},
   "outputs": [],
   "source": [
    "# importing the dependencies\n",
    "import os\n",
    "from os import listdir\n",
    "from os.path import isfile, join\n",
    "import cv2\n",
    "import numpy as np\n",
    "import keras\n",
    "from keras import backend as k\n",
    "from sklearn.model_selection import train_test_split\n",
    "from keras.models import Sequential\n",
    "from keras.layers.convolutional import Conv2D, MaxPooling2D\n",
    "from keras.layers.core import Flatten, Dense"
   ]
  },
  {
   "cell_type": "code",
   "execution_count": 71,
   "metadata": {},
   "outputs": [],
   "source": [
    "# a function to resize the image into appropriate dimensions\n",
    "def resize(img):\n",
    "    img = cv2.resize(img,(20,20))\n",
    "    return img\n",
    "    "
   ]
  },
  {
   "cell_type": "code",
   "execution_count": 72,
   "metadata": {},
   "outputs": [],
   "source": [
    "X_train = []\n",
    "y_train = []\n",
    "\n",
    "# to get the name of the folder\n",
    "for name_folder in os.listdir(\"extracted_letter_images\") :\n",
    "\n",
    "    name = 'extracted_letter_images/' + name_folder\n",
    "    for f in listdir(name):\n",
    "        # name of the folder is the name of the output\n",
    "        y_train.append(np.asarray(name_folder))\n",
    "        \n",
    "        # constructing full path to the image\n",
    "        name = 'extracted_letter_images/' + name_folder + '/' + f\n",
    "        \n",
    "        # reading the image\n",
    "        image = cv2.imread(name,0)/255\n",
    "        \n",
    "        # appending to form the image list\n",
    "        image = np.asarray(image)\n",
    "        image = resize(image)\n",
    "        X_train.append([image])"
   ]
  },
  {
   "cell_type": "code",
   "execution_count": 73,
   "metadata": {},
   "outputs": [],
   "source": [
    "# converting the lsit into an numoy array so that it can be fed into neural network\n",
    "X_train = np.asarray(X_train)\n",
    "y_train = np.asarray(y_train)"
   ]
  },
  {
   "cell_type": "code",
   "execution_count": 74,
   "metadata": {},
   "outputs": [],
   "source": [
    "X_train = np.reshape(X_train, [-1,20,20,1])"
   ]
  },
  {
   "cell_type": "code",
   "execution_count": 75,
   "metadata": {},
   "outputs": [
    {
     "data": {
      "text/plain": [
       "(38744, 20, 20, 1)"
      ]
     },
     "execution_count": 75,
     "metadata": {},
     "output_type": "execute_result"
    }
   ],
   "source": [
    "X_train.shape"
   ]
  },
  {
   "cell_type": "code",
   "execution_count": 76,
   "metadata": {},
   "outputs": [],
   "source": [
    "# one hot encoding the output labels\n",
    "from sklearn.preprocessing import LabelEncoder\n",
    "from sklearn.preprocessing import OneHotEncoder\n",
    "\n",
    "label_encoder = LabelEncoder()\n",
    "integer_encoded = label_encoder.fit_transform(y_train)\n",
    "\n",
    "onehot_encoder = OneHotEncoder(sparse=False)\n",
    "integer_encoded = integer_encoded.reshape(len(integer_encoded), 1)\n",
    "y_train = onehot_encoder.fit_transform(integer_encoded)"
   ]
  },
  {
   "cell_type": "code",
   "execution_count": 77,
   "metadata": {},
   "outputs": [],
   "source": [
    "# defining the architecture of the model\n",
    "model = Sequential()\n",
    "\n",
    "# First convolutional layer with max pooling\n",
    "model.add(Conv2D(64, (3, 3), padding=\"same\", input_shape=(20,20,1), activation=\"relu\"))\n",
    "model.add(MaxPooling2D(pool_size=(2, 2)))\n",
    "\n",
    "# Second convolutional layer with max pooling\n",
    "model.add(Conv2D(128, (3, 3), padding=\"same\", activation=\"relu\"))\n",
    "model.add(MaxPooling2D(pool_size=(2, 2)))\n",
    "\n",
    "# third convolutional layer with max pooling\n",
    "model.add(Conv2D(512, (3, 3), padding=\"same\", activation=\"relu\"))\n",
    "model.add(MaxPooling2D(pool_size=(2, 2)))\n",
    "\n",
    "# Hidden layer with 500 nodes\n",
    "model.add(Flatten())\n",
    "model.add(Dense(100, activation=\"relu\"))\n",
    "\n",
    "# Output layer with 32 nodes (one for each possible letter/number we predict)\n",
    "model.add(Dense(32, activation=\"softmax\"))\n",
    "\n",
    "# Ask Keras to build the TensorFlow model behind the scenes\n",
    "model.compile(loss=\"categorical_crossentropy\", optimizer=\"adam\", metrics=[\"accuracy\"])\n"
   ]
  },
  {
   "cell_type": "code",
   "execution_count": 78,
   "metadata": {},
   "outputs": [
    {
     "name": "stdout",
     "output_type": "stream",
     "text": [
      "_________________________________________________________________\n",
      "Layer (type)                 Output Shape              Param #   \n",
      "=================================================================\n",
      "conv2d_15 (Conv2D)           (None, 20, 20, 64)        640       \n",
      "_________________________________________________________________\n",
      "max_pooling2d_15 (MaxPooling (None, 10, 10, 64)        0         \n",
      "_________________________________________________________________\n",
      "conv2d_16 (Conv2D)           (None, 10, 10, 128)       73856     \n",
      "_________________________________________________________________\n",
      "max_pooling2d_16 (MaxPooling (None, 5, 5, 128)         0         \n",
      "_________________________________________________________________\n",
      "conv2d_17 (Conv2D)           (None, 5, 5, 512)         590336    \n",
      "_________________________________________________________________\n",
      "max_pooling2d_17 (MaxPooling (None, 2, 2, 512)         0         \n",
      "_________________________________________________________________\n",
      "flatten_7 (Flatten)          (None, 2048)              0         \n",
      "_________________________________________________________________\n",
      "dense_13 (Dense)             (None, 100)               204900    \n",
      "_________________________________________________________________\n",
      "dense_14 (Dense)             (None, 32)                3232      \n",
      "=================================================================\n",
      "Total params: 872,964\n",
      "Trainable params: 872,964\n",
      "Non-trainable params: 0\n",
      "_________________________________________________________________\n"
     ]
    }
   ],
   "source": [
    "model.summary()"
   ]
  },
  {
   "cell_type": "code",
   "execution_count": 79,
   "metadata": {},
   "outputs": [],
   "source": [
    "# splitting the samples into training and testing sets so that we cross validate our results\n",
    "X_train, X_test, y_train, y_test = train_test_split(X_train,y_train ,test_size = .2)"
   ]
  },
  {
   "cell_type": "code",
   "execution_count": 80,
   "metadata": {},
   "outputs": [
    {
     "data": {
      "text/plain": [
       "(30995, 32)"
      ]
     },
     "execution_count": 80,
     "metadata": {},
     "output_type": "execute_result"
    }
   ],
   "source": [
    "# shape of the training output\n",
    "y_train.shape"
   ]
  },
  {
   "cell_type": "code",
   "execution_count": 81,
   "metadata": {},
   "outputs": [
    {
     "name": "stdout",
     "output_type": "stream",
     "text": [
      "Train on 30995 samples, validate on 7749 samples\n",
      "Epoch 1/10\n",
      "30995/30995 [==============================] - 261s 8ms/step - loss: 3.3081 - acc: 0.1365 - val_loss: 2.7608 - val_acc: 0.4038\n",
      "Epoch 2/10\n",
      "30995/30995 [==============================] - 255s 8ms/step - loss: 1.6283 - acc: 0.6737 - val_loss: 0.6698 - val_acc: 0.8046\n",
      "Epoch 3/10\n",
      "30995/30995 [==============================] - 264s 9ms/step - loss: 0.3820 - acc: 0.9124 - val_loss: 0.1801 - val_acc: 0.9689\n",
      "Epoch 4/10\n",
      "30995/30995 [==============================] - 259s 8ms/step - loss: 0.1325 - acc: 0.9765 - val_loss: 0.0841 - val_acc: 0.9857\n",
      "Epoch 5/10\n",
      "30995/30995 [==============================] - 259s 8ms/step - loss: 0.0741 - acc: 0.9881 - val_loss: 0.0589 - val_acc: 0.9907\n",
      "Epoch 6/10\n",
      "30995/30995 [==============================] - 262s 8ms/step - loss: 0.0550 - acc: 0.9912 - val_loss: 0.0445 - val_acc: 0.9923\n",
      "Epoch 7/10\n",
      "30995/30995 [==============================] - 276s 9ms/step - loss: 0.0434 - acc: 0.9924 - val_loss: 0.0363 - val_acc: 0.9933\n",
      "Epoch 8/10\n",
      "30995/30995 [==============================] - 278s 9ms/step - loss: 0.0370 - acc: 0.9931 - val_loss: 0.0327 - val_acc: 0.9930\n",
      "Epoch 9/10\n",
      "30995/30995 [==============================] - 290s 9ms/step - loss: 0.0314 - acc: 0.9939 - val_loss: 0.0282 - val_acc: 0.9945\n",
      "Epoch 10/10\n",
      "30995/30995 [==============================] - 289s 9ms/step - loss: 0.0259 - acc: 0.9949 - val_loss: 0.0247 - val_acc: 0.9952\n"
     ]
    },
    {
     "data": {
      "text/plain": [
       "<keras.callbacks.History at 0x1e3014cd7f0>"
      ]
     },
     "execution_count": 81,
     "metadata": {},
     "output_type": "execute_result"
    }
   ],
   "source": [
    "# fitting the model\n",
    "model.fit(X_train, y_train,\n",
    "          validation_data=[X_test,y_test],\n",
    "          batch_size=2000, \n",
    "          epochs=10, \n",
    "          verbose=1)\n"
   ]
  },
  {
   "cell_type": "markdown",
   "metadata": {},
   "source": [
    "from the above training and testing results we can say that our model performs very well on the data set"
   ]
  },
  {
   "cell_type": "code",
   "execution_count": 83,
   "metadata": {},
   "outputs": [],
   "source": [
    "#saving the model \n",
    "model.save('models/model.h5')"
   ]
  },
  {
   "cell_type": "code",
   "execution_count": 84,
   "metadata": {},
   "outputs": [],
   "source": [
    "np.save('models/xtrain',X_train,allow_pickle=True)"
   ]
  },
  {
   "cell_type": "code",
   "execution_count": null,
   "metadata": {},
   "outputs": [],
   "source": []
  }
 ],
 "metadata": {
  "kernelspec": {
   "display_name": "Python 3",
   "language": "python",
   "name": "python3"
  },
  "language_info": {
   "codemirror_mode": {
    "name": "ipython",
    "version": 3
   },
   "file_extension": ".py",
   "mimetype": "text/x-python",
   "name": "python",
   "nbconvert_exporter": "python",
   "pygments_lexer": "ipython3",
   "version": "3.5.4"
  }
 },
 "nbformat": 4,
 "nbformat_minor": 2
}
